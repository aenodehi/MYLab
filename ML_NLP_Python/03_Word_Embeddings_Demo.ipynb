{
 "cells": [
  {
   "cell_type": "code",
   "execution_count": null,
   "metadata": {},
   "outputs": [],
   "source": [
    "\n",
    "#!wget -nc https://lazyprogrammer.me/course_files/nlp/GoogleNews-vectors-negative300.bin.gz\n",
    "\n",
    "# You are better off just downloading this from the source\n",
    "#https://drive.google.com/file/d/0B7XkCwp15KDYNlNUTTlSS21pQmM/edit?usp=sharing\n",
    "# https://code.google.com/archive/p/word2vec/"
   ]
  },
  {
   "cell_type": "code",
   "execution_count": 2,
   "metadata": {},
   "outputs": [],
   "source": [
    "import gdown"
   ]
  },
  {
   "cell_type": "code",
   "execution_count": null,
   "metadata": {},
   "outputs": [],
   "source": [
    "!gdown https://drive.google.com/uc?id=0B7XKCwp15KDYN1NUTT1SS21pQmM"
   ]
  },
  {
   "cell_type": "code",
   "execution_count": 3,
   "metadata": {},
   "outputs": [
    {
     "name": "stdout",
     "output_type": "stream",
     "text": [
      "gzip: GoogleNews-vectors-negative300.bin.gz: No such file or directory\n"
     ]
    }
   ],
   "source": [
    "!gunzip GoogleNews-vectors-negative300.bin.gz"
   ]
  },
  {
   "cell_type": "code",
   "execution_count": 4,
   "metadata": {},
   "outputs": [],
   "source": [
    "from gensim.models import KeyedVectors"
   ]
  },
  {
   "cell_type": "code",
   "execution_count": 5,
   "metadata": {},
   "outputs": [],
   "source": [
    "word_vectors = KeyedVectors.load_word2vec_format(\n",
    "    'GoogleNews-vectors-negative300.bin',\n",
    "    binary=True\n",
    ")"
   ]
  },
  {
   "cell_type": "code",
   "execution_count": 6,
   "metadata": {},
   "outputs": [],
   "source": [
    "def find_analogies(w1, w2, w3):\n",
    "    # w1 - w2 = ? - w3\n",
    "    # e.g. king - man = ? - woman\n",
    "    #        ? = +king +woman -man\n",
    "    r = word_vectors.most_similar(positive=[w1, w3], negative=[w2])\n",
    "    print(\"%s - %s = %s - %s\" % (w1, w2, r[0][0], w3))  \n",
    "    print(r)"
   ]
  },
  {
   "cell_type": "code",
   "execution_count": 7,
   "metadata": {},
   "outputs": [
    {
     "name": "stdout",
     "output_type": "stream",
     "text": [
      "king - man = queen - woman\n",
      "[('queen', 0.7118193507194519), ('monarch', 0.6189674139022827), ('princess', 0.5902431011199951), ('crown_prince', 0.5499460697174072), ('prince', 0.5377321839332581), ('kings', 0.5236844420433044), ('Queen_Consort', 0.5235945582389832), ('queens', 0.5181134343147278), ('sultan', 0.5098593831062317), ('monarchy', 0.5087411999702454)]\n"
     ]
    }
   ],
   "source": [
    "find_analogies('king', 'man', 'woman')"
   ]
  },
  {
   "cell_type": "code",
   "execution_count": 8,
   "metadata": {},
   "outputs": [
    {
     "name": "stdout",
     "output_type": "stream",
     "text": [
      "france - paris = england - london\n",
      "[('england', 0.5836853981018066), ('europe', 0.5529575943946838), ('birmingham', 0.5180005431175232), ('european', 0.5125302076339722), ('newcastle', 0.5107192993164062), ('africa', 0.4936657249927521), ('glasgow', 0.49336352944374084), ('barcelona', 0.4907172918319702), ('sheffield', 0.4896309971809387), ('spain', 0.48787444829940796)]\n"
     ]
    }
   ],
   "source": [
    "find_analogies ('france', 'paris', 'london')"
   ]
  },
  {
   "cell_type": "code",
   "execution_count": 9,
   "metadata": {},
   "outputs": [
    {
     "name": "stdout",
     "output_type": "stream",
     "text": [
      "france - paris = italy - rome\n",
      "[('italy', 0.519952118396759), ('european', 0.5075845718383789), ('italian', 0.5057743191719055), ('epl', 0.490744411945343), ('spain', 0.4888668656349182), ('england', 0.4852672219276428), ('italians', 0.4842422604560852), ('kosovo', 0.48134922981262207), ('lampard', 0.4807734787464142), ('malta', 0.4788566529750824)]\n"
     ]
    }
   ],
   "source": [
    "find_analogies('france', 'paris', 'rome')"
   ]
  },
  {
   "cell_type": "code",
   "execution_count": 10,
   "metadata": {},
   "outputs": [
    {
     "name": "stdout",
     "output_type": "stream",
     "text": [
      "paris - france = lohan - italy\n",
      "[('lohan', 0.5069674849510193), ('madrid', 0.481842964887619), ('heidi', 0.4799900949001312), ('real_madrid', 0.4753323495388031), ('florence', 0.4682057499885559), ('diego', 0.46727296710014343), ('ronnie', 0.4672326445579529), ('juventus', 0.4672061800956726), ('joel', 0.4653724133968353), ('huntelaar', 0.46358999609947205)]\n"
     ]
    }
   ],
   "source": [
    "find_analogies ('paris', 'france', 'italy')"
   ]
  },
  {
   "cell_type": "code",
   "execution_count": 11,
   "metadata": {},
   "outputs": [
    {
     "name": "stdout",
     "output_type": "stream",
     "text": [
      "france - french = england - english\n",
      "[('england', 0.5428633689880371), ('Institute_ITRI_eng', 0.5412766933441162), ('europe', 0.5303182601928711), ('sheffield', 0.5022643208503723), ('london', 0.5003795623779297), ('germany', 0.4972507655620575), ('barcelona', 0.49707841873168945), ('holland', 0.49334731698036194), ('gerrard', 0.489728182554245), ('america', 0.48911213874816895)]\n"
     ]
    }
   ],
   "source": [
    "find_analogies ('france', 'french', 'english')"
   ]
  },
  {
   "cell_type": "code",
   "execution_count": 12,
   "metadata": {},
   "outputs": [
    {
     "name": "stdout",
     "output_type": "stream",
     "text": [
      "japan - japanese = tibet - chinese\n",
      "[('tibet', 0.566748321056366), ('america', 0.5380551815032959), ('korea', 0.5365394949913025), ('pakistan', 0.5149454474449158), ('iran', 0.5134090781211853), ('thailand', 0.5074805021286011), ('mexico', 0.5068151354789734), ('cuba', 0.5048203468322754), ('ethiopia', 0.5021540522575378), ('seoul', 0.5019758343696594)]\n"
     ]
    }
   ],
   "source": [
    "find_analogies ('japan', 'japanese', 'chinese')"
   ]
  },
  {
   "cell_type": "code",
   "execution_count": 13,
   "metadata": {},
   "outputs": [
    {
     "name": "stdout",
     "output_type": "stream",
     "text": [
      "japan - japanese = italy - italian\n",
      "[('italy', 0.5732298493385315), ('forza', 0.5252177119255066), ('italia', 0.5142238140106201), ('spain', 0.5117610096931458), ('juve', 0.5084933638572693), ('bayern', 0.5059434771537781), ('athens', 0.5058653354644775), ('france', 0.5019282102584839), ('portugal', 0.500545859336853), ('malta', 0.49762341380119324)]\n"
     ]
    }
   ],
   "source": [
    "find_analogies('japan', 'japanese', 'italian')"
   ]
  },
  {
   "cell_type": "code",
   "execution_count": 14,
   "metadata": {},
   "outputs": [
    {
     "name": "stdout",
     "output_type": "stream",
     "text": [
      "december - november = september - june\n",
      "[('september', 0.556007444858551), ('april', 0.5512108206748962), ('july', 0.544388473033905), ('february', 0.5405706167221069), ('october', 0.5089326500892639), ('sept', 0.5014253854751587), ('nov', 0.47300073504447937), ('january', 0.4615103006362915), ('aug', 0.4590410888195038), ('os', 0.45587944984436035)]\n"
     ]
    }
   ],
   "source": [
    "find_analogies ('december', 'november', 'june')"
   ]
  },
  {
   "cell_type": "code",
   "execution_count": null,
   "metadata": {},
   "outputs": [],
   "source": [
    "find_analogies('miami', 'florida', 'texas')"
   ]
  },
  {
   "cell_type": "code",
   "execution_count": null,
   "metadata": {},
   "outputs": [],
   "source": [
    "find_analogies ('einstein', 'scientist', 'painter')"
   ]
  },
  {
   "cell_type": "code",
   "execution_count": null,
   "metadata": {},
   "outputs": [],
   "source": [
    "find_analogies ('man', 'woman', 'she')"
   ]
  },
  {
   "cell_type": "code",
   "execution_count": null,
   "metadata": {},
   "outputs": [],
   "source": [
    "find_analogies ('man', 'woman', 'aunt')"
   ]
  },
  {
   "cell_type": "code",
   "execution_count": null,
   "metadata": {},
   "outputs": [],
   "source": [
    "find_analogies ('man', 'woman', 'sister')"
   ]
  },
  {
   "cell_type": "code",
   "execution_count": null,
   "metadata": {},
   "outputs": [],
   "source": [
    "find_analogies ('man', 'woman', 'wife')"
   ]
  },
  {
   "cell_type": "code",
   "execution_count": null,
   "metadata": {},
   "outputs": [],
   "source": [
    "find_analogies ('man', 'woman', 'actress')"
   ]
  },
  {
   "cell_type": "code",
   "execution_count": null,
   "metadata": {},
   "outputs": [],
   "source": [
    "find_analogies ('man', 'woman', 'mother')"
   ]
  },
  {
   "cell_type": "code",
   "execution_count": null,
   "metadata": {},
   "outputs": [],
   "source": [
    "find_analogies ('nephew', 'niece', 'aunt')"
   ]
  },
  {
   "cell_type": "code",
   "execution_count": 17,
   "metadata": {},
   "outputs": [],
   "source": [
    "def nearest_neighbors(w):\n",
    "    r = word_vectors.most_similar(positive=[w])\n",
    "    print(\"neighbors of: %s\" % w)\n",
    "    for word, score in r:\n",
    "        print(\"\\t%s \" % word)"
   ]
  },
  {
   "cell_type": "code",
   "execution_count": 18,
   "metadata": {},
   "outputs": [
    {
     "name": "stdout",
     "output_type": "stream",
     "text": [
      "neighbors of: king\n",
      "\tkings \n",
      "\tqueen \n",
      "\tmonarch \n",
      "\tcrown_prince \n",
      "\tprince \n",
      "\tsultan \n",
      "\truler \n",
      "\tprinces \n",
      "\tPrince_Paras \n",
      "\tthrone \n"
     ]
    }
   ],
   "source": [
    "nearest_neighbors('king')"
   ]
  },
  {
   "cell_type": "code",
   "execution_count": 19,
   "metadata": {},
   "outputs": [
    {
     "name": "stdout",
     "output_type": "stream",
     "text": [
      "neighbors of: france\n",
      "\tspain \n",
      "\tfrench \n",
      "\tgermany \n",
      "\teurope \n",
      "\titaly \n",
      "\tengland \n",
      "\teuropean \n",
      "\tbelgium \n",
      "\tusa \n",
      "\tserbia \n"
     ]
    }
   ],
   "source": [
    "nearest_neighbors('france')"
   ]
  },
  {
   "cell_type": "code",
   "execution_count": 20,
   "metadata": {},
   "outputs": [
    {
     "name": "stdout",
     "output_type": "stream",
     "text": [
      "neighbors of: japan\n",
      "\tjapanese \n",
      "\ttokyo \n",
      "\tamerica \n",
      "\teurope \n",
      "\tgermany \n",
      "\tchinese \n",
      "\tindia \n",
      "\thawaii \n",
      "\tusa \n",
      "\tkorea \n"
     ]
    }
   ],
   "source": [
    "nearest_neighbors('japan')"
   ]
  },
  {
   "cell_type": "code",
   "execution_count": 21,
   "metadata": {},
   "outputs": [
    {
     "name": "stdout",
     "output_type": "stream",
     "text": [
      "neighbors of: einstein\n",
      "\tnikki \n",
      "\tlmfao \n",
      "\talbert \n",
      "\tarmstrong \n",
      "\tjoan \n",
      "\tbecky \n",
      "\tmcmahon \n",
      "\tconrad \n",
      "\tlori \n",
      "\thaley \n"
     ]
    }
   ],
   "source": [
    "nearest_neighbors('einstein')"
   ]
  },
  {
   "cell_type": "code",
   "execution_count": 22,
   "metadata": {},
   "outputs": [
    {
     "name": "stdout",
     "output_type": "stream",
     "text": [
      "neighbors of: woman\n",
      "\tman \n",
      "\tgirl \n",
      "\tteenage_girl \n",
      "\tteenager \n",
      "\tlady \n",
      "\tteenaged_girl \n",
      "\tmother \n",
      "\tpolicewoman \n",
      "\tboy \n",
      "\tWoman \n"
     ]
    }
   ],
   "source": [
    "nearest_neighbors('woman')"
   ]
  },
  {
   "cell_type": "code",
   "execution_count": 23,
   "metadata": {},
   "outputs": [
    {
     "name": "stdout",
     "output_type": "stream",
     "text": [
      "neighbors of: nephew\n",
      "\tson \n",
      "\tuncle \n",
      "\tbrother \n",
      "\tgrandson \n",
      "\tcousin \n",
      "\tfather \n",
      "\tniece \n",
      "\tyounger_brother \n",
      "\tnephews \n",
      "\tstepson \n"
     ]
    }
   ],
   "source": [
    "nearest_neighbors('nephew')"
   ]
  },
  {
   "cell_type": "code",
   "execution_count": 24,
   "metadata": {},
   "outputs": [
    {
     "name": "stdout",
     "output_type": "stream",
     "text": [
      "neighbors of: february\n",
      "\tjanuary \n",
      "\tapril \n",
      "\tseptember \n",
      "\tdecember \n",
      "\tjuly \n",
      "\toctober \n",
      "\tnovember \n",
      "\tjune \n",
      "\tfeb \n",
      "\tnorway \n"
     ]
    }
   ],
   "source": [
    "nearest_neighbors('february')"
   ]
  },
  {
   "cell_type": "code",
   "execution_count": null,
   "metadata": {},
   "outputs": [],
   "source": [
    "# Exercise: download pretrained Glove vectors from\n",
    "# https://nlp.stanford.edu/projects/glove/\n",
    "#\n",
    "# Implement your own find_analogies() and nearest_neighbors()"
   ]
  }
 ],
 "metadata": {
  "kernelspec": {
   "display_name": "Python 3",
   "language": "python",
   "name": "python3"
  },
  "language_info": {
   "codemirror_mode": {
    "name": "ipython",
    "version": 3
   },
   "file_extension": ".py",
   "mimetype": "text/x-python",
   "name": "python",
   "nbconvert_exporter": "python",
   "pygments_lexer": "ipython3",
   "version": "3.11.6"
  }
 },
 "nbformat": 4,
 "nbformat_minor": 2
}
